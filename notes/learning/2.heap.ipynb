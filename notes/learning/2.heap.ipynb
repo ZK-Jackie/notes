{
 "cells": [
  {
   "metadata": {
    "ExecuteTime": {
     "end_time": "2025-03-20T08:34:59.100747Z",
     "start_time": "2025-03-20T08:34:59.092815Z"
    }
   },
   "cell_type": "code",
   "source": [
    "class Heap:\n",
    "    arr: list[int]\n",
    "    size: int\n",
    "    max_heap: bool\n",
    "\n",
    "    def __init__(self, origin_arr: list[int] = None, is_max_heap: bool = True):\n",
    "        self.max_heap = is_max_heap\n",
    "        self.heapify(origin_arr or [])\n",
    "\n",
    "    def heapify(self, arr: list[int]):\n",
    "        self.arr = []\n",
    "        self.size = 0\n",
    "        for c in arr:\n",
    "            self.insert(c)\n",
    "\n",
    "    def up(self, index: int):\n",
    "        h = self.arr\n",
    "\n",
    "        parent_index = (index - 1) // 2\n",
    "        cmp: bool = h[index] > h[parent_index] if self.max_heap else h[index] < h[parent_index]\n",
    "        if parent_index >= 0 and cmp:\n",
    "            h[index], h[parent_index] = h[parent_index], h[index]\n",
    "            self.up(parent_index)\n",
    "\n",
    "    def dive(self, index: int):\n",
    "        h = self.arr\n",
    "\n",
    "        left_child_index = 2 * index + 1\n",
    "        right_child_index = 2 * index + 2\n",
    "        replaced_child_index = index\n",
    "\n",
    "        if left_child_index < self.size:\n",
    "            cmp1: bool = h[replaced_child_index] < h[left_child_index] if self.max_heap else h[replaced_child_index] > h[\n",
    "            left_child_index]\n",
    "            if cmp1:\n",
    "                replaced_child_index = left_child_index\n",
    "\n",
    "        if right_child_index < self.size:\n",
    "            cmp2: bool = h[replaced_child_index] < h[right_child_index] if self.max_heap else h[replaced_child_index] > h[\n",
    "            right_child_index]\n",
    "            if cmp2:\n",
    "                replaced_child_index = right_child_index\n",
    "\n",
    "        if replaced_child_index != index:\n",
    "            h[index], h[replaced_child_index] = h[replaced_child_index], h[index]\n",
    "            self.dive(replaced_child_index)\n",
    "\n",
    "    def poll(self):\n",
    "        h = self.arr\n",
    "\n",
    "        h[0], h[-1] = h[-1], h[0]\n",
    "        ret = h.pop()\n",
    "        self.size -= 1\n",
    "        self.dive(0)\n",
    "        return ret\n",
    "\n",
    "    def insert(self, num: int):\n",
    "        heap = self.arr\n",
    "        heap.append(num)\n",
    "        self.size += 1\n",
    "        self.up(len(self.arr) - 1)\n",
    "\n",
    "    def replace(self, num: int, index: int = 0):\n",
    "        self.arr[index] = num\n",
    "        self.dive(index)\n"
   ],
   "id": "9892f3369322188d",
   "outputs": [],
   "execution_count": 42
  },
  {
   "metadata": {
    "ExecuteTime": {
     "end_time": "2025-03-20T08:34:59.109345Z",
     "start_time": "2025-03-20T08:34:59.106250Z"
    }
   },
   "cell_type": "code",
   "source": [
    "# heap_instance = Heap([1, 3, 5, 9, 7, 2, 5], False)\n",
    "# heap_instance.insert(10)"
   ],
   "id": "f020a6b938214ed3",
   "outputs": [],
   "execution_count": 43
  },
  {
   "metadata": {
    "ExecuteTime": {
     "end_time": "2025-03-20T08:34:59.120794Z",
     "start_time": "2025-03-20T08:34:59.116554Z"
    }
   },
   "cell_type": "code",
   "source": [
    "from typing import List\n",
    "# LeetCode 215 —— 快排\n",
    "def findKthLargest(nums: List[int], k: int) -> int:\n",
    "    h = Heap()\n",
    "    for n in nums:\n",
    "        h.insert(n)\n",
    "    ret = 0\n",
    "    while k:\n",
    "        ret = h.poll()\n",
    "        k -= 1\n",
    "    return ret\n",
    "\n",
    "findKthLargest([1, 3, 5, 9, 7, 2, 5], 3)"
   ],
   "id": "bdcf2ce69f7f7f81",
   "outputs": [
    {
     "data": {
      "text/plain": [
       "5"
      ]
     },
     "execution_count": 44,
     "metadata": {},
     "output_type": "execute_result"
    }
   ],
   "execution_count": 44
  },
  {
   "metadata": {
    "ExecuteTime": {
     "end_time": "2025-03-20T08:34:59.143468Z",
     "start_time": "2025-03-20T08:34:59.138080Z"
    }
   },
   "cell_type": "code",
   "source": [
    "# LeetCode 703\n",
    "class KthLargest:\n",
    "    k: int\n",
    "    heap: \"Heap\"\n",
    "\n",
    "    def __init__(self, k: int, nums: List[int]):\n",
    "        self.k = k\n",
    "        self.heap = Heap(is_max_heap=False)\n",
    "        for n in nums:\n",
    "            self.add(n)\n",
    "\n",
    "\n",
    "    def add(self, val: int) -> int:\n",
    "        if self.k:\n",
    "            self.heap.insert(val)\n",
    "            self.k -= 1\n",
    "        elif val > self.heap.arr[0]:\n",
    "            self.heap.replace(val)\n",
    "        return self.heap.arr[0]\n",
    "\n",
    "so = KthLargest(3, [4,5,2,8])\n",
    "so.add(3)\n",
    "so.add(5)\n",
    "so.add(4)\n",
    "so.add(9)\n",
    "so.add(4)"
   ],
   "id": "cf7d5540a1321a00",
   "outputs": [
    {
     "data": {
      "text/plain": [
       "5"
      ]
     },
     "execution_count": 45,
     "metadata": {},
     "output_type": "execute_result"
    }
   ],
   "execution_count": 45
  },
  {
   "metadata": {
    "ExecuteTime": {
     "end_time": "2025-03-20T08:36:46.443585Z",
     "start_time": "2025-03-20T08:36:46.434835Z"
    }
   },
   "cell_type": "code",
   "source": [
    "# LeetCode 295\n",
    "class MedianFinder:\n",
    "    small_one: bool\n",
    "    max_heap: \"Heap\"\n",
    "    min_heap: \"Heap\"\n",
    "    def __init__(self):\n",
    "        self.small_one = False\n",
    "        self.max_heap = Heap()\n",
    "        self.min_heap = Heap(is_max_heap=False)\n",
    "\n",
    "    def addNum(self, num: int) -> None:\n",
    "        left = self.max_heap\n",
    "        right = self.min_heap\n",
    "        if len(left.arr) == len(right.arr):\n",
    "            right.insert(num)\n",
    "            left.insert(right.poll())\n",
    "        else:\n",
    "            left.insert(num)\n",
    "            right.insert(left.poll())\n",
    "\n",
    "    def findMedian(self) -> float:\n",
    "        left = self.max_heap\n",
    "        right = self.min_heap\n",
    "        if not len(left.arr) == len(right.arr):\n",
    "            return left.arr[0]\n",
    "        else:\n",
    "            return (\n",
    "                    self.max_heap.arr[0] + self.min_heap.arr[0]\n",
    "            ) / 2.0\n",
    "\n",
    "m = MedianFinder()\n",
    "m.addNum(1)\n",
    "m.addNum(2)\n",
    "m.findMedian()\n",
    "m.addNum(3)\n",
    "m.findMedian()\n",
    "m.findMedian()"
   ],
   "id": "f3db26b3db79769",
   "outputs": [
    {
     "data": {
      "text/plain": [
       "2"
      ]
     },
     "execution_count": 52,
     "metadata": {},
     "output_type": "execute_result"
    }
   ],
   "execution_count": 52
  },
  {
   "metadata": {},
   "cell_type": "code",
   "outputs": [],
   "execution_count": null,
   "source": "",
   "id": "420b8815bdcba2c8"
  }
 ],
 "metadata": {
  "kernelspec": {
   "display_name": "Python 3",
   "language": "python",
   "name": "python3"
  },
  "language_info": {
   "codemirror_mode": {
    "name": "ipython",
    "version": 2
   },
   "file_extension": ".py",
   "mimetype": "text/x-python",
   "name": "python",
   "nbconvert_exporter": "python",
   "pygments_lexer": "ipython2",
   "version": "2.7.6"
  }
 },
 "nbformat": 4,
 "nbformat_minor": 5
}
