{
 "cells": [
  {
   "metadata": {},
   "cell_type": "markdown",
   "source": [
    "## 2.5 哈希表\n",
    "\n",
    "负载因子：$load factor(\\alpha) = \\frac{n}{m}$，其中 $n$ 是元素个数，$m$ 是数组长度。\n",
    "\n",
    "对于 Java 源码，当负载因子为 0.75 时，哈希表会进行扩容\n",
    "\n",
    "### 2.5.1 拉链法\n"
   ],
   "id": "975af19d1ae2491"
  },
  {
   "metadata": {},
   "cell_type": "code",
   "outputs": [],
   "execution_count": null,
   "source": [
    "from operator import itruediv\n",
    "from typing import Any\n",
    "\n",
    "\n",
    "# 拉链法\n",
    "class HashTable:\n",
    "    class Entry:\n",
    "        hash_code: int\n",
    "        key: Any\n",
    "        value: Any\n",
    "        next_entry: \"Entry\"\n",
    "\n",
    "        def __init__(self, hash_code: int, key: Any, value: Any, next_entry: \"Entry\" = None):\n",
    "            self.hash_code = hash_code\n",
    "            self.key = key\n",
    "            self.value = value\n",
    "            self.next_entry = next_entry\n",
    "\n",
    "    table: list[Entry | None]\n",
    "    size: int\n",
    "    max_load: float\n",
    "\n",
    "    def __init__(self, table_size: int = 16, max_load: float = 0.75):\n",
    "        self.table = [None for _ in range(table_size)]\n",
    "        self.max_load = max_load\n",
    "\n",
    "    @property\n",
    "    def load_factor(self):\n",
    "        return self.size / len(self.table)\n",
    "\n",
    "    @property\n",
    "    def threshold(self):\n",
    "        return self.max_load * len(self.table)\n",
    "\n",
    "    # 求模运算替换为按位与运算，必须要求数组长度是2的n次方\n",
    "    def get(self, hash_code: int, key: Any):\n",
    "        # 1 获取表格索引\n",
    "        table_index = hash_code & (self.size - 1)\n",
    "        # 2 如果对应索引处没有链表，返回空\n",
    "        if not self.table[table_index]:\n",
    "            return None\n",
    "        # 3 否则遍历链表直至找到目标值\n",
    "        traval: \"HashTable.Entry\" = table_index[table_index]\n",
    "        while traval:  # type:HashTable.Entry\n",
    "            if traval.key == key:\n",
    "                return traval.value\n",
    "            traval = traval.next_entry\n",
    "        return None\n",
    "\n",
    "    def put(self, hash_code: int, key: Any, value: Any):\n",
    "        # 1 获取表格索引\n",
    "        table_index = hash_code & (self.size - 1)\n",
    "        # 2 如果对应索引处没有链表，建立链表头\n",
    "        if not self.table[table_index]:\n",
    "            self.table[table_index] = HashTable.Entry(hash_code, key, value)\n",
    "            return\n",
    "        # 3 如果对应索引处有链表，插入到末尾\n",
    "        traval: \"HashTable.Entry\" = table_index[table_index]\n",
    "        while traval.next_entry:  # type:HashTable.Entry\n",
    "            # 3.1 若是有相同 key，做值的替换，退出循环返回结果\n",
    "            if traval.key == key:\n",
    "                traval.value = value\n",
    "                return\n",
    "            # 3.2 不断遍历到最后一个空位\n",
    "            traval = traval.next_entry\n",
    "        traval.next_entry = HashTable.Entry(hash_code, key, value)\n",
    "        self.size += 1\n",
    "        if self.size > self.threshold:\n",
    "            self.resize()\n",
    "\n",
    "    def remove(self, hash_code: int, key: Any):\n",
    "        hash(hash_code)\n",
    "        # 1 获取表格索引\n",
    "        table_index = hash_code & (self.size - 1)\n",
    "        # 2 如果对应索引处没有链表，返回空\n",
    "        if not self.table[table_index]:\n",
    "            return None\n",
    "        # 3 找指定的 key\n",
    "        prev = None\n",
    "        cur = self.table[table_index]\n",
    "        while cur:\n",
    "            if cur.key == key:\n",
    "                if not prev:\n",
    "                    self.table[table_index] = cur.next_entry\n",
    "                else:\n",
    "                    prev.next_entry = cur.next_entry\n",
    "                self.size -= 1\n",
    "                return cur.value\n",
    "            prev = cur\n",
    "            cur = cur.next_entry\n",
    "        return None\n",
    "\n",
    "    def resize(self):\n",
    "        new_table = [None for _ in range(len(self.table) << 2)]\n",
    "        for index, e in enumerate(self.table):\n",
    "            if e:\n",
    "                left, right = None, None\n",
    "                left_head, right_head = None, None  # 左：新数组index位置；右：新数组index+len(旧数组)位置\n",
    "                p = e\n",
    "                while p:\n",
    "                    if p.key & len(self.table) == 0:\n",
    "                        if not left_head:\n",
    "                            left_head = p\n",
    "                        else:\n",
    "                            left.next_entry = p\n",
    "                        left = p  # 移动到下一个元素\n",
    "                    else:\n",
    "                        if not right_head:\n",
    "                            right_head = p\n",
    "                        else:\n",
    "                            right.next_entry = p\n",
    "                        right = p  # 移动到下一个元素\n",
    "                if left:\n",
    "                    left.next_entry = None\n",
    "                    new_table[index] = left_head\n",
    "                if right:\n",
    "                    right.next_entry = None\n",
    "                    new_table[index + len(self.table)] = right_head\n",
    "        self.table = new_table"
   ],
   "id": "9dc49a2766ce65ae"
  },
  {
   "metadata": {},
   "cell_type": "markdown",
   "source": "",
   "id": "6f329d3859d842eb"
  },
  {
   "metadata": {
    "ExecuteTime": {
     "end_time": "2025-04-04T12:36:08.421844Z",
     "start_time": "2025-04-04T12:36:08.409387Z"
    }
   },
   "cell_type": "code",
   "source": "hash(\"abc\")",
   "id": "784c6f7cdcb4a7f7",
   "outputs": [
    {
     "data": {
      "text/plain": [
       "-1615247710174026067"
      ]
     },
     "execution_count": 5,
     "metadata": {},
     "output_type": "execute_result"
    }
   ],
   "execution_count": 5
  },
  {
   "metadata": {
    "ExecuteTime": {
     "end_time": "2025-04-04T14:18:11.452409Z",
     "start_time": "2025-04-04T14:18:11.438440Z"
    }
   },
   "cell_type": "code",
   "source": [
    "from typing import List\n",
    "\n",
    "\n",
    "# LeetCode 01\n",
    "def twoSum(self, nums: List[int], target: int) -> List[int]:\n",
    "    hash_map = {}\n",
    "    for index, num in enumerate(nums):\n",
    "        x = num\n",
    "        y = target - x\n",
    "        if y in hash_map:\n",
    "            return [hash_map[y], index]\n",
    "        else:\n",
    "            hash_map[num] = index\n",
    "\n",
    "twoSum(None, [3,3], 6)"
   ],
   "id": "3c77a75d4d6baf6",
   "outputs": [
    {
     "data": {
      "text/plain": [
       "[0, 1]"
      ]
     },
     "execution_count": 7,
     "metadata": {},
     "output_type": "execute_result"
    }
   ],
   "execution_count": 7
  },
  {
   "metadata": {
    "ExecuteTime": {
     "end_time": "2025-04-04T15:08:48.638925Z",
     "start_time": "2025-04-04T15:08:48.628489Z"
    }
   },
   "cell_type": "code",
   "source": [
    "from typing import List\n",
    "# LeetCode 3\n",
    "def lengthOfLongestSubstring(self, s: str) -> int:\n",
    "    hash_map = {}\n",
    "    begin = 0\n",
    "    max_len = float('-inf')\n",
    "    for index, ch in enumerate(s):\n",
    "        if ch in hash_map:\n",
    "            begin = max(begin, hash_map[ch] + 1)    # 从重复处开始取新值\n",
    "\n",
    "            hash_map[ch] = index\n",
    "        else:\n",
    "            hash_map[ch] = index\n",
    "        max_len = max(index - begin + 1, max_len)\n",
    "    return max_len\n",
    "\n",
    "lengthOfLongestSubstring(None, \"abba\")"
   ],
   "id": "c31632e7be5973f3",
   "outputs": [
    {
     "data": {
      "text/plain": [
       "2"
      ]
     },
     "execution_count": 8,
     "metadata": {},
     "output_type": "execute_result"
    }
   ],
   "execution_count": 8
  },
  {
   "metadata": {
    "ExecuteTime": {
     "end_time": "2025-04-05T08:17:59.621963Z",
     "start_time": "2025-04-05T08:17:59.615043Z"
    }
   },
   "cell_type": "code",
   "source": [
    "from typing import List\n",
    "\n",
    "# LeetCode 49\n",
    "def groupAnagrams(self, strs: List[str]) -> List[List[str]]:\n",
    "    hash_map = {}\n",
    "    for item in strs:\n",
    "        sorted_str = \"\".join(sorted(item))\n",
    "        if sorted_str not in hash_map:\n",
    "            hash_map[sorted_str] = [item]\n",
    "        else:\n",
    "            hash_map[sorted_str].append(item)\n",
    "    return list(hash_map.values()) if hash_map else []\n",
    "\n",
    "groupAnagrams(None, [\"eat\",\"tea\",\"tan\",\"ate\",\"nat\",\"bat\"])"
   ],
   "id": "af1c4e3987ff498e",
   "outputs": [
    {
     "data": {
      "text/plain": [
       "[['eat', 'tea', 'ate'], ['tan', 'nat'], ['bat']]"
      ]
     },
     "execution_count": 8,
     "metadata": {},
     "output_type": "execute_result"
    }
   ],
   "execution_count": 8
  },
  {
   "metadata": {
    "ExecuteTime": {
     "end_time": "2025-04-05T08:11:52.790640Z",
     "start_time": "2025-04-05T08:11:52.785861Z"
    }
   },
   "cell_type": "code",
   "source": [
    "# LeetCode 217\n",
    "def containsDuplicate(self, nums: List[int]) -> bool:\n",
    "    hash_set = set()\n",
    "    for num in nums:\n",
    "        if num in hash_set:\n",
    "            return True\n",
    "        else:\n",
    "            hash_set.add(num)\n",
    "    return False"
   ],
   "id": "f9f27deb101285ef",
   "outputs": [
    {
     "data": {
      "text/plain": [
       "'aabccc'"
      ]
     },
     "execution_count": 3,
     "metadata": {},
     "output_type": "execute_result"
    }
   ],
   "execution_count": 3
  },
  {
   "metadata": {
    "ExecuteTime": {
     "end_time": "2025-04-05T08:38:40.451576Z",
     "start_time": "2025-04-05T08:38:40.445811Z"
    }
   },
   "cell_type": "code",
   "source": [
    "# LeetCode 136\n",
    "def singleNumber(self, nums: List[int]) -> int:\n",
    "    \"\"\"异或算法\"\"\"\n",
    "    ret = nums[0]\n",
    "    for i in range(1, len(nums)):\n",
    "        ret ^= nums[i]\n",
    "    return ret\n",
    "\n",
    "singleNumber(None, [1,2,3,4,5,6,1,2,3,4,5])"
   ],
   "id": "251747cde5461c21",
   "outputs": [
    {
     "data": {
      "text/plain": [
       "6"
      ]
     },
     "execution_count": 9,
     "metadata": {},
     "output_type": "execute_result"
    }
   ],
   "execution_count": 9
  },
  {
   "metadata": {},
   "cell_type": "code",
   "outputs": [],
   "execution_count": null,
   "source": [
    "from collections import Counter\n",
    "# LeetCode 242\n",
    "def isAnagram(self, s: str, t: str) -> bool:\n",
    "    return Counter(s) == Counter(t)"
   ],
   "id": "1177d02ad76bdfc7"
  },
  {
   "metadata": {},
   "cell_type": "code",
   "outputs": [],
   "execution_count": null,
   "source": [
    "from collections import Counter\n",
    "# LeetCode 387\n",
    "def firstUniqChar(self, s: str) -> int:\n",
    "    hash_map = Counter(s)\n",
    "    for index, ch in enumerate(s):\n",
    "        if hash_map[ch] == 1:\n",
    "            return index\n",
    "\n",
    "    return -1"
   ],
   "id": "dc4418801462551a"
  },
  {
   "metadata": {
    "ExecuteTime": {
     "end_time": "2025-04-05T09:16:44.719816Z",
     "start_time": "2025-04-05T09:16:44.712517Z"
    }
   },
   "cell_type": "code",
   "source": [
    "# LeetCode 819\n",
    "import re\n",
    "from collections import Counter\n",
    "def mostCommonWord(self, paragraph: str, banned: List[str]) -> str:\n",
    "    splits = re.findall(\"[A-Za-z]+\",paragraph.lower())\n",
    "    cnt_map = Counter(splits)\n",
    "    for ban in banned:\n",
    "        cnt_map.pop(ban)\n",
    "    print(cnt_map.most_common(1)[0][0])\n",
    "\n",
    "mostCommonWord(None, \"Bob hit a ball, the hit BALL flew far after it was hit.\", [\"hit\"])"
   ],
   "id": "a2a977415bd4ecb0",
   "outputs": [
    {
     "name": "stdout",
     "output_type": "stream",
     "text": [
      "ball\n"
     ]
    }
   ],
   "execution_count": 19
  }
 ],
 "metadata": {
  "kernelspec": {
   "display_name": "Python 3",
   "language": "python",
   "name": "python3"
  },
  "language_info": {
   "codemirror_mode": {
    "name": "ipython",
    "version": 2
   },
   "file_extension": ".py",
   "mimetype": "text/x-python",
   "name": "python",
   "nbconvert_exporter": "python",
   "pygments_lexer": "ipython2",
   "version": "2.7.6"
  }
 },
 "nbformat": 4,
 "nbformat_minor": 5
}
